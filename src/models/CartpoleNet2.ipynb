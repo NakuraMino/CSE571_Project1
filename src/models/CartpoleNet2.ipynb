{
  "nbformat": 4,
  "nbformat_minor": 0,
  "metadata": {
    "colab": {
      "name": "CartpoleNet2.ipynb",
      "provenance": []
    },
    "kernelspec": {
      "name": "python3",
      "display_name": "Python 3"
    }
  },
  "cells": [
    {
      "cell_type": "code",
      "metadata": {
        "id": "wZuXnpQbZ5gf",
        "colab_type": "code",
        "colab": {}
      },
      "source": [
        "import torch\n",
        "import torch.nn as nn\n",
        "import torch.nn.functional as F "
      ],
      "execution_count": 0,
      "outputs": []
    },
    {
      "cell_type": "code",
      "metadata": {
        "id": "uJP6EYI0Z7_O",
        "colab_type": "code",
        "colab": {}
      },
      "source": [
        "class CartPoleNet(nn.Module): \n",
        "  def __init__(self):\n",
        "    super(CartPoleNet, self).__init__()\n",
        "    self.conv1 = nn.Conv3d(3, 6, 3, padding=1) \n",
        "    self.conv2 = nn.Conv3d(6, 16, 3, padding=1)\n",
        "    self.conv3 = nn.Conv3d(16, 32, 3, padding=1)\n",
        "    self.conv4 = nn.Conv3d(32, 64, 3, padding=1)\n",
        "    # fully connected layers, make sure to add up images here\n",
        "    self.fc1 = nn.Linear(8 * 8 * 64, 120)\n",
        "    self.fc2 = nn.Linear(120, 100)\n",
        "    self.fc3 = nn.Linear(100, 50)\n",
        "    self.fc4 = nn.Linear(50, 4)\n",
        "\n",
        "  def forward(self, x):\n",
        "    x = F.max_pool3d(F.relu(self.conv1(x)), (1, 2, 2)) # 64\n",
        "    x = F.max_pool3d(F.relu(self.conv2(x)), (1, 2, 2)) # 32\n",
        "    x = F.max_pool3d(F.relu(self.conv3(x)), (1, 2, 2)) # 16\n",
        "    x = F.max_pool3d(F.relu(self.conv4(x)), (1, 2, 2)) # 8\n",
        "    # sum up along batch axis before moving onto fully connected layers\n",
        "    x = torch.sum(x, dim=2)\n",
        "    x = x.view(-1, self.num_flat_features(x))\n",
        "    # fully connected layers\n",
        "    x = F.relu(self.fc1(x))\n",
        "    x = F.relu(self.fc2(x))\n",
        "    x = F.relu(self.fc3(x))\n",
        "    x = self.fc4(x)\n",
        "    return x\n",
        "\n",
        "  def num_flat_features(self, x):\n",
        "    size = x.size()[1:]  # all dimensions except the batch dimension\n",
        "    num_features = 1\n",
        "    for s in size:\n",
        "        num_features *= s\n",
        "    return num_features\n"
      ],
      "execution_count": 0,
      "outputs": []
    },
    {
      "cell_type": "code",
      "metadata": {
        "id": "dC2MspcIa5WM",
        "colab_type": "code",
        "colab": {}
      },
      "source": [
        "input = torch.randn(5, 3, 5, 128, 128)\n",
        "net = CartPoleNet()"
      ],
      "execution_count": 0,
      "outputs": []
    },
    {
      "cell_type": "code",
      "metadata": {
        "id": "nHshliVia8LH",
        "colab_type": "code",
        "colab": {}
      },
      "source": [
        "out = net(input)"
      ],
      "execution_count": 0,
      "outputs": []
    },
    {
      "cell_type": "code",
      "metadata": {
        "id": "vUjFgzBnbD3c",
        "colab_type": "code",
        "outputId": "71e9116f-84dd-4256-ccaf-6e730e29f2c2",
        "colab": {
          "base_uri": "https://localhost:8080/",
          "height": 104
        }
      },
      "source": [
        "print(out)"
      ],
      "execution_count": 17,
      "outputs": [
        {
          "output_type": "stream",
          "text": [
            "tensor([[ 0.1188, -0.0678, -0.1156, -0.0818],\n",
            "        [ 0.1178, -0.0672, -0.1155, -0.0811],\n",
            "        [ 0.1180, -0.0673, -0.1161, -0.0804],\n",
            "        [ 0.1191, -0.0654, -0.1150, -0.0808],\n",
            "        [ 0.1189, -0.0670, -0.1162, -0.0811]], grad_fn=<AddmmBackward>)\n"
          ],
          "name": "stdout"
        }
      ]
    },
    {
      "cell_type": "code",
      "metadata": {
        "id": "4rm2lBd7bVfH",
        "colab_type": "code",
        "colab": {}
      },
      "source": [
        ""
      ],
      "execution_count": 0,
      "outputs": []
    }
  ]
}
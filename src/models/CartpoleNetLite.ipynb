{
  "nbformat": 4,
  "nbformat_minor": 0,
  "metadata": {
    "colab": {
      "name": "CartpoleNetLite.ipynb",
      "provenance": [],
      "collapsed_sections": []
    },
    "kernelspec": {
      "name": "python3",
      "display_name": "Python 3"
    },
    "accelerator": "GPU"
  },
  "cells": [
    {
      "cell_type": "code",
      "metadata": {
        "id": "ItacOHVTbQrV",
        "colab_type": "code",
        "colab": {}
      },
      "source": [
        "import torch\n",
        "import torch.nn as nn\n",
        "import torch.nn.functional as F \n",
        "import torch.optim as optim\n",
        "\n",
        "class CartpoleNetLite(nn.Module):\n",
        "  def __init__(self):\n",
        "    super(CartpoleNetLite, self).__init__()\n",
        "    self.conv1 = nn.Conv3d(1, 8, 3, padding=1) \n",
        "    self.conv2 = nn.Conv3d(8, 16, 3, padding=1)\n",
        "    self.conv3 = nn.Conv3d(16, 32, 3, padding=1)\n",
        "    self.fc1 = nn.Linear(16 * 16 * 32, 256)\n",
        "    self.fc2 = nn.Linear(256, 128)\n",
        "    self.fc3 = nn.Linear(128, 4)\n",
        "\n",
        "  def forward(self, x):\n",
        "    x = F.max_pool3d(F.relu(self.conv1(x)), (1,2,2)) # 64x64\n",
        "    x = F.max_pool3d(F.relu(self.conv2(x)), (1,2,2)) # 32x32\n",
        "    x = F.max_pool3d(F.relu(self.conv3(x)), (1,2,2)) # 16x16\n",
        "    x = torch.sum(x, axis=2)\n",
        "    x = x.view(-1, self.num_flat_features(x))\n",
        "    x = F.relu(self.fc1(x))\n",
        "    x = F.relu(self.fc2(x))\n",
        "    x = self.fc3(x)\n",
        "    return x\n",
        "\n",
        "  def num_flat_features(self, x):\n",
        "    size = x.size()[1:]  # all dimensions except the batch dimension\n",
        "    num_features = 1\n",
        "    for s in size:\n",
        "        num_features *= s\n",
        "    return num_features"
      ],
      "execution_count": 0,
      "outputs": []
    },
    {
      "cell_type": "code",
      "metadata": {
        "id": "NNCk9M8NvKmO",
        "colab_type": "code",
        "colab": {}
      },
      "source": [
        "def create_batch(dataset, batch_size=32, epoch=0, index=0):\n",
        "  '''\n",
        "  retrieves a batch of training data to work on. given the specified\n",
        "  starting epoch and starting index. \n",
        "  '''\n",
        "  index %= 50\n",
        "  assert(epoch < 220 and epoch >= 0)\n",
        "  assert(index >= 3 and index <= 48)\n",
        "\n",
        "  train_x = dataset[epoch * 50 + index][0].unsqueeze(0) # gets first training point \n",
        "  train_y = torch.tensor(dataset[epoch * 50 + index][1][-2, :]).unsqueeze(0) # gets second to last delta state \n",
        "\n",
        "  # epoch * 50 + index\n",
        "\n",
        "\n",
        "  for i in range(batch_size - 1):\n",
        "    index += 1\n",
        "    if (index > 48):\n",
        "      # resetting indices so we are in the right area\n",
        "      epoch += 1\n",
        "      index = 3 \n",
        "    if epoch >= 218:\n",
        "      epoch = 0\n",
        "    x = dataset[epoch * 50 + index][0].unsqueeze(0)\n",
        "    y = torch.tensor(dataset[epoch * 50 + index][1][-2, :]).unsqueeze(0)\n",
        "    train_x = torch.cat((train_x, x), axis=0)\n",
        "    train_y = torch.cat((train_y, y), axis=0)\n",
        "\n",
        "  return (train_x.double(), train_y, epoch, index)"
      ],
      "execution_count": 0,
      "outputs": []
    },
    {
      "cell_type": "code",
      "metadata": {
        "id": "0bqOCW7ounmT",
        "colab_type": "code",
        "colab": {}
      },
      "source": [
        "!unzip image_dataset.zip"
      ],
      "execution_count": 0,
      "outputs": []
    },
    {
      "cell_type": "code",
      "metadata": {
        "id": "vzCOOpHedAFl",
        "colab_type": "code",
        "colab": {}
      },
      "source": [
        "from dataloader import CartpoleDataset \n",
        "\n",
        "path = './image_dataset/'\n",
        "dataset = CartpoleDataset('data.csv', path, 5, H=128, W=128)\n"
      ],
      "execution_count": 0,
      "outputs": []
    },
    {
      "cell_type": "code",
      "metadata": {
        "id": "LjoR8Ep4gSHD",
        "colab_type": "code",
        "colab": {}
      },
      "source": [
        "net = CartpoleNetLite().float().to(\"cuda\")\n",
        "criterion = nn.MSELoss()\n",
        "\n",
        "JHist = []\n",
        "\n",
        "optimizer = optim.Adam(net.parameters(), lr=0.01)"
      ],
      "execution_count": 0,
      "outputs": []
    },
    {
      "cell_type": "code",
      "metadata": {
        "id": "Cqn9cPn8euAb",
        "colab_type": "code",
        "colab": {}
      },
      "source": [
        "torch.autograd.set_detect_anomaly(True)\n",
        "\n",
        "# 0.05, 0.01, 0.005, 0.0005\n",
        "for i in range(1000):\n",
        "  train_x, train_y, epoch, index = create_batch(dataset, 128, epoch, index)\n",
        "  train_x = train_x.float().to(\"cuda\")\n",
        "  train_y = train_y.float().to(\"cuda\")\n",
        "\n",
        "  optimizer.zero_grad()\n",
        "  y_pred = net(train_x)\n",
        "  loss = criterion(y_pred, train_y)\n",
        "  loss.backward()\n",
        "  optimizer.step()\n",
        "\n",
        "  epoch_loss = loss.item()\n",
        "  JHist.append(epoch_loss)\n",
        "  print(i, epoch_loss)\n"
      ],
      "execution_count": 0,
      "outputs": []
    },
    {
      "cell_type": "code",
      "metadata": {
        "id": "95dtGw2YxwnD",
        "colab_type": "code",
        "colab": {}
      },
      "source": [
        "import matplotlib.pyplot as plt\n",
        "print(JHist)\n",
        "plt.plot(JHist[230:]) # before 230 was just overfitting on one batch\n",
        "plt.xlabel(\"epoch\")\n",
        "plt.ylabel(\"mean-squared error\")\n",
        "plt.show()\n",
        "plt.savefig(\"learning_curve.png\")\n"
      ],
      "execution_count": 0,
      "outputs": []
    },
    {
      "cell_type": "code",
      "metadata": {
        "id": "xL2B5CDoAc5w",
        "colab_type": "code",
        "colab": {}
      },
      "source": [
        "from google.colab import files\n",
        "PATH = './CartpoleNet3.pth'\n",
        "torch.save(net.state_dict(), PATH)\n",
        "files.download('./CartpoleNet3.pth')\n",
        "# files.download('./learning_curve.png')\n"
      ],
      "execution_count": 0,
      "outputs": []
    },
    {
      "cell_type": "code",
      "metadata": {
        "id": "RTmlfQEDDkzT",
        "colab_type": "code",
        "colab": {}
      },
      "source": [
        "JHist_avg = []\n",
        "ii = 0\n",
        "sum = 0\n",
        "for J in JHist:\n",
        "  if ii % 100 == 99:\n",
        "    JHist_avg.append(sum / 100)\n",
        "    sum = 0\n",
        "  else:\n",
        "    sum += J\n",
        "  ii += 1"
      ],
      "execution_count": 0,
      "outputs": []
    },
    {
      "cell_type": "code",
      "metadata": {
        "id": "jklJaGbENQen",
        "colab_type": "code",
        "colab": {
          "base_uri": "https://localhost:8080/",
          "height": 295
        },
        "outputId": "35b3b25a-a96a-47b0-80ff-2c857d6f37eb"
      },
      "source": [
        "plt.clf()\n",
        "plt.xlabel(\"epoch\")\n",
        "plt.ylabel(\"mean-squared error\")\n",
        "plt.title(\"average MSE per 100 iterations\")\n",
        "plt.plot(JHist_avg[2:])\n",
        "plt.show()"
      ],
      "execution_count": 182,
      "outputs": [
        {
          "output_type": "display_data",
          "data": {
            "image/png": "[encoded data removed]",
            "text/plain": [
              "<Figure size 432x288 with 1 Axes>"
            ]
          },
          "metadata": {
            "tags": [],
            "needs_background": "light"
          }
        }
      ]
    },
    {
      "cell_type": "code",
      "metadata": {
        "id": "3SZTTNNnU8Em",
        "colab_type": "code",
        "colab": {}
      },
      "source": [
        "index = 3"
      ],
      "execution_count": 0,
      "outputs": []
    },
    {
      "cell_type": "code",
      "metadata": {
        "id": "w54WJ_Q0VN1a",
        "colab_type": "code",
        "colab": {}
      },
      "source": [
        ""
      ],
      "execution_count": 0,
      "outputs": []
    }
  ]
}
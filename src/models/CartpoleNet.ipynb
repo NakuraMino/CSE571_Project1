{
  "nbformat": 4,
  "nbformat_minor": 0,
  "metadata": {
    "colab": {
      "name": "CartpoleNet.ipynb",
      "provenance": [],
      "collapsed_sections": []
    },
    "kernelspec": {
      "name": "python3",
      "display_name": "Python 3"
    }
  },
  "cells": [
    {
      "cell_type": "code",
      "metadata": {
        "id": "d64IjapZOYqG",
        "colab_type": "code",
        "colab": {}
      },
      "source": [
        "import torch\n",
        "import torch.nn as nn\n",
        "import torch.nn.functional as F "
      ],
      "execution_count": 0,
      "outputs": []
    },
    {
      "cell_type": "code",
      "metadata": {
        "id": "HeklUVx3Ojrm",
        "colab_type": "code",
        "colab": {}
      },
      "source": [
        "class CartPoleNet(nn.Module): \n",
        "  def __init__(self):\n",
        "    super(CartPoleNet, self).__init__()\n",
        "    self.conv1 = nn.Conv2d(3, 6, 3)\n",
        "    self.conv2 = nn.Conv2d(6, 16, 3)\n",
        "    self.conv3 = nn.Conv2d(16, 32, 3)\n",
        "    self.conv4 = nn.Conv2d(32, 64, 3)\n",
        "    # fully connected layers, make sure to add up images here\n",
        "    self.fc1 = nn.Linear(6 * 6 * 64, 120)\n",
        "    self.fc2 = nn.Linear(120, 100)\n",
        "    self.fc3 = nn.Linear(100, 50)\n",
        "    self.fc4 = nn.Linear(50, 4)\n",
        "\n",
        "  def forward(self, x):\n",
        "    x = F.max_pool2d(F.relu(self.conv1(x)), 2) \n",
        "    x = F.max_pool2d(F.relu(self.conv2(x)), 2) \n",
        "    x = F.max_pool2d(F.relu(self.conv3(x)), 2) \n",
        "    x = F.max_pool2d(F.relu(self.conv4(x)), 2)\n",
        "    # sum up along batch axis before moving onto fully connected layers\n",
        "    x = x.view(-1, self.num_flat_features(x))\n",
        "    x = torch.sum(x, dim=0)\n",
        "    # fully connected layers\n",
        "    x = F.relu(self.fc1(x))\n",
        "    x = F.relu(self.fc2(x))\n",
        "    x = F.relu(self.fc3(x))\n",
        "    x = self.fc4(x)\n",
        "    return x\n",
        "\n",
        "  def num_flat_features(self, x):\n",
        "    size = x.size()[1:]  # all dimensions except the batch dimension\n",
        "    num_features = 1\n",
        "    for s in size:\n",
        "        num_features *= s\n",
        "    return num_features\n"
      ],
      "execution_count": 0,
      "outputs": []
    },
    {
      "cell_type": "code",
      "metadata": {
        "id": "xlhJTFPdSd_f",
        "colab_type": "code",
        "outputId": "57a29f7b-7b37-4382-d9e6-11bab85131d9",
        "colab": {
          "base_uri": "https://localhost:8080/",
          "height": 187
        }
      },
      "source": [
        "net = CartPoleNet()\n",
        "print(net)"
      ],
      "execution_count": 15,
      "outputs": [
        {
          "output_type": "stream",
          "text": [
            "CartPoleNet(\n",
            "  (conv1): Conv2d(3, 6, kernel_size=(3, 3), stride=(1, 1))\n",
            "  (conv2): Conv2d(6, 16, kernel_size=(3, 3), stride=(1, 1))\n",
            "  (conv3): Conv2d(16, 32, kernel_size=(3, 3), stride=(1, 1))\n",
            "  (conv4): Conv2d(32, 64, kernel_size=(3, 3), stride=(1, 1))\n",
            "  (fc1): Linear(in_features=2304, out_features=120, bias=True)\n",
            "  (fc2): Linear(in_features=120, out_features=100, bias=True)\n",
            "  (fc3): Linear(in_features=100, out_features=50, bias=True)\n",
            "  (fc4): Linear(in_features=50, out_features=4, bias=True)\n",
            ")\n"
          ],
          "name": "stdout"
        }
      ]
    },
    {
      "cell_type": "code",
      "metadata": {
        "id": "d7nJY2O1aLDz",
        "colab_type": "code",
        "outputId": "38c8b71f-ece2-4c27-ecd2-b07d7796eb29",
        "colab": {
          "base_uri": "https://localhost:8080/",
          "height": 34
        }
      },
      "source": [
        "input = torch.randn(4, 3, 128, 128)\n",
        "out = net(input)\n",
        "print(out)"
      ],
      "execution_count": 18,
      "outputs": [
        {
          "output_type": "stream",
          "text": [
            "tensor([ 0.0170,  0.0631,  0.1101, -0.1387], grad_fn=<AddBackward0>)\n"
          ],
          "name": "stdout"
        }
      ]
    }
  ]
}
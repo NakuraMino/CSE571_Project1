{
  "nbformat": 4,
  "nbformat_minor": 0,
  "metadata": {
    "colab": {
      "name": "GPNet3.ipynb",
      "provenance": [],
      "collapsed_sections": []
    },
    "kernelspec": {
      "name": "python3",
      "display_name": "Python 3"
    }
  },
  "cells": [
    {
      "cell_type": "code",
      "metadata": {
        "id": "WwiMwb4es3fw",
        "colab_type": "code",
        "colab": {}
      },
      "source": [
        "import numpy as np\n",
        "import torch\n",
        "import torch.nn as nn\n",
        "import torch.nn.functional as F \n",
        "import torch.optim as optim"
      ],
      "execution_count": 0,
      "outputs": []
    },
    {
      "cell_type": "code",
      "metadata": {
        "id": "ayh0ztPutJjs",
        "colab_type": "code",
        "colab": {}
      },
      "source": [
        "class GPNet3(nn.Module):\n",
        "  def __init__(self):\n",
        "    super(GPNet3, self).__init__()\n",
        "    self.fc1 = nn.Linear(6, 50)\n",
        "    self.fc2 = nn.Linear(50, 50)\n",
        "    self.fc3 = nn.Linear(50, 4)\n",
        "    self.JHist = []\n",
        "      \n",
        "  def forward(self, x):\n",
        "    x = self.standardize_data(x)\n",
        "    x = torch.tanh(self.fc1(x))\n",
        "    x = torch.tanh(self.fc2(x))\n",
        "    x = self.fc3(x)\n",
        "    return x\n",
        "\n",
        "  def standardize_info(self, train_x):\n",
        "    self.mean = torch.mean(train_x, 0)\n",
        "    self.std = train_x.std(0)\n",
        "  \n",
        "  def standardize_data(self, train_x):\n",
        "    return (train_x - self.mean) / self.std\n",
        "\n",
        "  def fit(self, train_x, train_y, batch_size=128, epochs=800, lr=0.01, showLoss=False):\n",
        "    if len(self.JHist) == 0:\n",
        "      self.standardize_info(train_x)\n",
        "\n",
        "    optimizer = optim.SGD(self.parameters(), lr=lr)\n",
        "    criterion = nn.MSELoss()\n",
        "\n",
        "    data_size = train_x.shape[0]\n",
        "    num_batches = int(data_size / batch_size)\n",
        "    for e in range(epochs):\n",
        "      \n",
        "      epoch_loss = 0\n",
        "\n",
        "      for b in range(num_batches):\n",
        "        x_batch = train_x[b*batch_size:min((b+1)*batch_size, data_size),:]\n",
        "        y_batch = train_y[b*batch_size:min((b+1)*batch_size, data_size),:]\n",
        "        \n",
        "        optimizer.zero_grad()\n",
        "\n",
        "        y_pred = net(x_batch) # define input\n",
        "\n",
        "        loss = criterion(y_pred, y_batch)\n",
        "        loss.backward()\n",
        "        optimizer.step()\n",
        "\n",
        "        epoch_loss += loss.item()\n",
        "\n",
        "      if e % 100 == 99 and showLoss:\n",
        "        print(e + 1, epoch_loss)\n",
        "\n",
        "      self.JHist.append(epoch_loss)\n",
        "    "
      ],
      "execution_count": 0,
      "outputs": []
    },
    {
      "cell_type": "code",
      "metadata": {
        "id": "xi0qOTm-t44a",
        "colab_type": "code",
        "colab": {}
      },
      "source": [
        "savedData = torch.from_numpy(np.loadtxt('data.csv', delimiter=','))"
      ],
      "execution_count": 0,
      "outputs": []
    },
    {
      "cell_type": "code",
      "metadata": {
        "id": "92ozBkZjud3O",
        "colab_type": "code",
        "outputId": "1b3f28b8-6f67-4832-ebda-ddd3740a259f",
        "colab": {
          "base_uri": "https://localhost:8080/",
          "height": 51
        }
      },
      "source": [
        "input, output = savedData[:,:6], savedData[:,6:]\n",
        "train_x, test_x = input[:10000,:], input[10000:,:]\n",
        "train_y, test_y = output[:10000,:], output[10000:,:]\n",
        "print(train_x[5,:])"
      ],
      "execution_count": 9,
      "outputs": [
        {
          "output_type": "stream",
          "text": [
            "tensor([-0.3625, -1.8014,  7.0715,  0.4220,  0.9066,  0.2341],\n",
            "       dtype=torch.float64)\n"
          ],
          "name": "stdout"
        }
      ]
    },
    {
      "cell_type": "code",
      "metadata": {
        "id": "6CCc_MOMt29C",
        "colab_type": "code",
        "outputId": "ddd22037-67ac-4d16-e86c-5ad3e06c64e7",
        "colab": {
          "base_uri": "https://localhost:8080/",
          "height": 102
        }
      },
      "source": [
        "net = GPNet3().double()\n",
        "print(net)"
      ],
      "execution_count": 10,
      "outputs": [
        {
          "output_type": "stream",
          "text": [
            "GPNet3(\n",
            "  (fc1): Linear(in_features=6, out_features=50, bias=True)\n",
            "  (fc2): Linear(in_features=50, out_features=50, bias=True)\n",
            "  (fc3): Linear(in_features=50, out_features=4, bias=True)\n",
            ")\n"
          ],
          "name": "stdout"
        }
      ]
    },
    {
      "cell_type": "code",
      "metadata": {
        "id": "mbs_KPR2uc18",
        "colab_type": "code",
        "colab": {}
      },
      "source": [
        "net.fit(train_x, train_y, epochs=300, lr=0.00025, showLoss=False)"
      ],
      "execution_count": 0,
      "outputs": []
    },
    {
      "cell_type": "code",
      "metadata": {
        "id": "_bJ2CLPxuhWP",
        "colab_type": "code",
        "outputId": "c95d321f-e658-4e89-a1ad-a94ed0bd7197",
        "colab": {
          "base_uri": "https://localhost:8080/",
          "height": 279
        }
      },
      "source": [
        "import matplotlib.pyplot as plt\n",
        "plt.plot(net.JHist)\n",
        "plt.ylabel(\"cost error\")\n",
        "plt.xlabel(\"epoch\")\n",
        "plt.show()"
      ],
      "execution_count": 38,
      "outputs": [
        {
          "output_type": "display_data",
          "data": {
            "image/png": "[encoded data removed]",
            "text/plain": [
              "<Figure size 432x288 with 1 Axes>"
            ]
          },
          "metadata": {
            "tags": [],
            "needs_background": "light"
          }
        }
      ]
    },
    {
      "cell_type": "code",
      "metadata": {
        "id": "twFwzwzgu4Tj",
        "colab_type": "code",
        "outputId": "4d28cd09-f774-4d79-ce70-6a51236e7757",
        "colab": {
          "base_uri": "https://localhost:8080/",
          "height": 68
        }
      },
      "source": [
        "with torch.no_grad():\n",
        "  criterion = nn.MSELoss()\n",
        "  y_pred = net(test_x)\n",
        "  loss = criterion(y_pred, test_y)\n",
        "  print(loss.item())\n",
        "  print(y_pred[7,:])\n",
        "  print(test_y[7,:])"
      ],
      "execution_count": 39,
      "outputs": [
        {
          "output_type": "stream",
          "text": [
            "0.18205809703358014\n",
            "tensor([ 0.2382,  0.2210,  0.1298, -0.0839], dtype=torch.float64)\n",
            "tensor([-0.1337,  0.1023,  0.0955, -0.0767], dtype=torch.float64)\n"
          ],
          "name": "stdout"
        }
      ]
    },
    {
      "cell_type": "code",
      "metadata": {
        "id": "zEmnyY17xCrT",
        "colab_type": "code",
        "colab": {
          "base_uri": "https://localhost:8080/",
          "height": 54
        },
        "outputId": "613e5f72-30a6-4623-d9a5-1a68a1096e2d"
      },
      "source": [
        "print(net.JHist)"
      ],
      "execution_count": 20,
      "outputs": [
        {
          "output_type": "stream",
          "text": [
            "[102.7235494939776, 102.68654783893575, 102.64957922350516, 102.61264354927407, 102.57574071817564, 102.53887063248696, 102.50203319482809, 102.46522830816045, 102.42845587578564, 102.39171580134473, 102.35500798881633, 102.31833234251617, 102.28168876709519, 102.24507716753904, 102.20849744916634, 102.17194951762777, 102.13543327890515, 102.09894863930985, 102.0624955054818, 102.02607378438859, 101.98968338332391, 101.95332420990681, 101.91699617208026, 101.88069917811026, 101.84443313658474, 101.80819795641222, 101.77199354682085, 101.7358198173572, 101.6996766778856, 101.6635640385864, 101.6274818099554, 101.59142990280245, 101.55540822825061, 101.51941669773491, 101.48345522300143, 101.44752371610605, 101.4116220894137, 101.37575025559701, 101.33990812763537, 101.30409561881402, 101.26831264272278, 101.23255911325529, 101.19683494460769, 101.16114005127807, 101.12547434806467, 101.08983775006577, 101.05423017267809, 101.01865153159586, 100.98310174281029, 100.94758072260784, 100.9120883875697, 100.87662465457106, 100.84118944077923, 100.80578266365379, 100.7704042409447, 100.73505409069186, 100.69973213122401, 100.6644382811577, 100.62917245939654, 100.59393458512999, 100.55872457783255, 100.52354235726295, 100.48838784346304, 100.45326095675682, 100.41816161774979, 100.38308974732772, 100.34804526665594, 100.31302809717836, 100.27803816061657, 100.24307537896885, 100.20813967450943, 100.17323096978764, 100.13834918762669, 100.10349425112304, 100.06866608364558, 100.03386460883452, 99.99908975060083, 99.96434143312501, 99.92961958085647, 99.89492411851252, 99.86025497107771, 99.82561206380281, 99.79099532220397, 99.75640467206188, 99.72184003942112, 99.6873013505889, 99.6527885321348, 99.61830151088932, 99.58384021394349, 99.54940456864803, 99.51499450261218, 99.4806099437032, 99.44625082004558, 99.41191706001997, 99.37760859226267, 99.34332534566451, 99.30906724937047, 99.27483423277839, 99.24062622553855, 99.20644315755287, 97.55764183426085, 94.35475822750108, 91.32255465677427, 88.42860485484398, 85.65339019598514, 82.98745746639808, 80.42906715549418, 77.98208889037524, 75.65403294998448, 73.45420228617334, 71.39201394204912, 69.47557205891363, 67.71057682755162, 66.09962874706969, 64.6419444250197, 63.33345134377909, 62.16718707126069, 61.13390243729576, 60.22276182785143, 59.422045004836626, 58.719777955413484, 58.10424811219272, 57.564385661441854, 57.09001353574082, 56.6719824453607, 56.30221423611123, 55.97367840039236, 55.68032453035602, 55.416989572755945, 55.17929421431019, 54.96353842845073, 54.76660258721107, 54.58585773564114, 54.41908661199, 54.26441565589848, 54.120257429637654, 53.9852624397301, 53.85827916593127, 53.73832108670907, 53.624539566267174, 53.51620159085199, 53.41267148138105, 53.313395847284816, 53.21789117310471, 53.12573354043863, 53.036550082170734, 52.95001184428816, 52.86582779463615, 52.783739769697746, 52.70351819192168, 52.624958423129776, 52.54787764573265, 52.472112184251166, 52.39751519610008, 52.3239546736606, 52.25131171007079, 52.17947898947783, 52.108359469168555, 52.037865226380404, 51.96791644696657, 51.8984405366572, 51.829371338591294, 51.76064844321694, 51.69221657867378, 51.62402507145619, 51.55602736857347, 51.48818061362104, 51.420445270193085, 51.352784786934066, 51.285165299268776, 51.21755536348562, 51.14992571939921, 51.08224907828861, 51.014499933220094, 50.94665438921688, 50.878690011048754, 50.810585686681875, 50.74232150466477, 50.67387864393052, 50.605239274674, 50.536386469120394, 50.46730412113713, 50.39797687376329, 50.328390053834866, 50.258529612978144, 50.188382074324785, 50.11793448437417, 50.047174369492495, 49.976089696593455, 49.904668837595715, 49.83290053729505, 49.76077388432901, 49.688278284945355, 49.61540343931617, 49.542139320166655, 49.4684761535121, 49.39440440131652, 49.31991474590702, 49.24499807599392, 49.1696454741618, 49.105803183719466, 49.06767317985447, 49.02944135791214, 48.9911052871605, 48.952662721859504, 48.9141115768662, 48.875449906810914, 48.836675888295474, 48.797787804652444, 48.75878403287729, 48.719663032406345, 48.68042333546501, 48.64106353875359, 48.60158229627443, 48.56197831313368, 48.52225034017774, 48.482397169344154, 48.44241762962674, 48.402310583567996, 48.36207492420653, 48.32170957241631, 48.281213474585314, 48.24058560058765, 48.199824942010636, 48.15893051060315, 48.11790133691737, 48.07673646911872, 48.03543497194321, 47.99399592578394, 47.952418425891295, 47.91070158167276, 47.8688445160811, 47.82684636508049, 47.784706277181414, 47.742423413037685, 47.699996945097205, 47.65742605730229, 47.6147099448333, 47.57184781389156, 47.528838881517316, 47.48568237543971, 47.4423775339551, 47.3989236058318, 47.35531985023785, 47.31156553669081, 47.26765994502682, 47.22360236538761, 47.17939209822418, 47.13502845431525, 47.09051075480002, 47.04583833122352, 47.00101052559392, 46.9560266904512, 46.91088618894558, 46.86558839492605, 46.820132693037564, 46.774518478826835, 46.72874515885573, 46.68281215082239, 46.636718883689035, 46.59046479781658, 46.54404934510521, 46.497471989141125, 46.45073220534864, 46.40382948114756, 46.35676331611578, 46.30953322215636, 46.2621387236694, 46.21457935772819, 46.16685467425925, 46.11896423622665, 46.070907619819884, 46.022684414645354, 45.97429422392114, 45.92573666467539, 45.87701136794746, 45.828117978992104, 45.779056157486686, 45.729825577740705, 45.68042592890842, 45.63085691520325, 45.58111825611509, 45.53120968662937, 45.48113095744843, 45.43088183521478, 45.380462102736, 45.32987155921175, 45.27911002046189, 45.22817731915646, 45.177073305046754, 45.12579784519794, 45.0743508242224, 45.02273214451443, 44.970941726485705, 44.918979508801556, 44.86684544861779, 44.81453952181822, 44.76206172325255, 44.70941206697448, 44.65659058648029, 44.617831799250006, 44.607210317786816, 44.59658245228721, 44.5859481869196, 44.57530750648217, 44.56466039638014, 44.55400684260403, 44.54334683170847, 44.53268035079221, 44.52200738747867, 44.51132792989744, 44.50064196666637, 44.48994948687453, 44.479250480065495, 44.46854493622187, 44.45783284574991, 44.447114199464906, 44.436388988577306, 44.42565720467911, 44.41491883973104, 44.40417388605012, 44.39342233629758, 44.38266418346769, 44.37189942087643, 44.36112804215104, 44.3503500412199, 44.33956541230266, 44.32877414990083, 44.317976248788845, 44.3071717040054, 44.29636051084489, 44.285542664849636, 44.274718161802134, 44.263886997717464, 44.253049168836455, 44.24220467161864, 44.23135350273566, 44.22049565906506, 44.209631137684156, 44.19875993586408, 44.18788205106443, 44.17699748092747, 44.16610622327325, 44.155208276094484, 44.144303637551715, 44.1333923059687, 44.12247427982807, 44.11154955776675, 44.10061813857229, 44.08968002117846]\n"
          ],
          "name": "stdout"
        }
      ]
    },
    {
      "cell_type": "code",
      "metadata": {
        "id": "GaUkZxb2S0g7",
        "colab_type": "code",
        "colab": {}
      },
      "source": [
        "PATH = './GPNet3.pth'\n",
        "torch.save(net.state_dict(), PATH)"
      ],
      "execution_count": 0,
      "outputs": []
    }
  ]
}
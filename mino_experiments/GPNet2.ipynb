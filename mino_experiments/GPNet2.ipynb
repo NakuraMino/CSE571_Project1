{
  "nbformat": 4,
  "nbformat_minor": 0,
  "metadata": {
    "colab": {
      "name": "GPNet2.0.ipynb",
      "provenance": []
    },
    "kernelspec": {
      "name": "python3",
      "display_name": "Python 3"
    }
  },
  "cells": [
    {
      "cell_type": "code",
      "metadata": {
        "id": "35HufmriOCep",
        "colab_type": "code",
        "colab": {}
      },
      "source": [
        "import numpy as np\n",
        "import torch\n",
        "import torch.nn as nn \n",
        "import torch.nn.functional as F\n",
        "import torch.optim as optim"
      ],
      "execution_count": 0,
      "outputs": []
    },
    {
      "cell_type": "code",
      "metadata": {
        "id": "4fuEkAppOFxH",
        "colab_type": "code",
        "colab": {}
      },
      "source": [
        "class GPNet(nn.Module):\n",
        "  def __init__(self):\n",
        "    super(GPNet, self).__init__()\n",
        "    self.fc1 = nn.Linear(6, 10)\n",
        "    self.fc2 = nn.Linear(10, 6)\n",
        "    self.fc3 = nn.Linear(6, 4)\n",
        "    self.JHist = []\n",
        "  \n",
        "  def forward(self, x):\n",
        "    x = torch.tanh(self.fc1(x))\n",
        "    x = torch.tanh(self.fc2(x))\n",
        "    x = self.fc3(x)\n",
        "    return x\n",
        "\n",
        "  def fit(self, train_x, train_y, epochs=25, lr=0.01, showLoss=False):\n",
        "    optimizer = optim.SGD(self.parameters(), lr=lr)\n",
        "    criterion = nn.MSELoss()\n",
        "\n",
        "    for e in range(epochs):\n",
        "        \n",
        "      optimizer.zero_grad()\n",
        "\n",
        "      y_pred = net(train_x) # define input\n",
        "\n",
        "      loss = criterion(y_pred, train_y)\n",
        "      loss.backward()\n",
        "      optimizer.step()\n",
        "\n",
        "      epoch_loss = loss.item()\n",
        "\n",
        "      if e % 10 == 9 and showLoss:\n",
        "        print(e + 1, epoch_loss)\n",
        "\n",
        "      self.JHist.append(epoch_loss)\n",
        "\n"
      ],
      "execution_count": 0,
      "outputs": []
    },
    {
      "cell_type": "code",
      "metadata": {
        "id": "ryuwZXG9OdYz",
        "colab_type": "code",
        "outputId": "5825061b-91e5-410a-d71c-059c5be199a5",
        "colab": {
          "base_uri": "https://localhost:8080/",
          "height": 102
        }
      },
      "source": [
        "net = GPNet().double()\n",
        "print(net)"
      ],
      "execution_count": 0,
      "outputs": [
        {
          "output_type": "stream",
          "text": [
            "GPNet(\n",
            "  (fc1): Linear(in_features=6, out_features=10, bias=True)\n",
            "  (fc2): Linear(in_features=10, out_features=6, bias=True)\n",
            "  (fc3): Linear(in_features=6, out_features=4, bias=True)\n",
            ")\n"
          ],
          "name": "stdout"
        }
      ]
    },
    {
      "cell_type": "code",
      "metadata": {
        "id": "SayLbubWOgPV",
        "colab_type": "code",
        "colab": {}
      },
      "source": [
        "savedData = torch.from_numpy(np.loadtxt('data.csv', delimiter=','))"
      ],
      "execution_count": 0,
      "outputs": []
    },
    {
      "cell_type": "code",
      "metadata": {
        "id": "iYrciHVmOiQM",
        "colab_type": "code",
        "colab": {}
      },
      "source": [
        "input, output = savedData[:,:6], savedData[:,6:]\n",
        "train_x, test_x = input[:4000,:], input[4000:,:]\n",
        "train_y, test_y = output[:4000,:], output[4000:,:]"
      ],
      "execution_count": 0,
      "outputs": []
    },
    {
      "cell_type": "code",
      "metadata": {
        "id": "5cF-1PdBOkQr",
        "colab_type": "code",
        "colab": {}
      },
      "source": [
        "net.fit(train_x, train_y, epochs=3000, lr=0.0005, showLoss=False)"
      ],
      "execution_count": 0,
      "outputs": []
    },
    {
      "cell_type": "code",
      "metadata": {
        "id": "Ty3RxJ5qOpWq",
        "colab_type": "code",
        "outputId": "8194b6dc-55ef-4391-e7be-1a3ccbabdf28",
        "colab": {
          "base_uri": "https://localhost:8080/",
          "height": 279
        }
      },
      "source": [
        "import matplotlib.pyplot as plt\n",
        "plt.plot(net.JHist)\n",
        "plt.ylabel(\"cost error\")\n",
        "plt.xlabel(\"epoch\")\n",
        "plt.show()"
      ],
      "execution_count": 0,
      "outputs": [
        {
          "output_type": "display_data",
          "data": {
            "image/png": "[encoded data removed]",
            "text/plain": [
              "<Figure size 432x288 with 1 Axes>"
            ]
          },
          "metadata": {
            "tags": [],
            "needs_background": "light"
          }
        }
      ]
    },
    {
      "cell_type": "code",
      "metadata": {
        "id": "JgsaOaOcOtA3",
        "colab_type": "code",
        "outputId": "02bb7cae-24c7-4412-a7f5-11a5cacaf63f",
        "colab": {
          "base_uri": "https://localhost:8080/",
          "height": 34
        }
      },
      "source": [
        "net.fit(train_x, train_y, epochs=10, lr=0.00075, showLoss=True)"
      ],
      "execution_count": 0,
      "outputs": [
        {
          "output_type": "stream",
          "text": [
            "10 0.08222101628859853\n"
          ],
          "name": "stdout"
        }
      ]
    },
    {
      "cell_type": "code",
      "metadata": {
        "id": "EcxZeBlPVH3y",
        "colab_type": "code",
        "colab": {}
      },
      "source": [
        "PATH = './GPNet2.pth'\n",
        "torch.save(net.state_dict(), PATH)"
      ],
      "execution_count": 0,
      "outputs": []
    },
    {
      "cell_type": "code",
      "metadata": {
        "id": "NEO7dZyzVwWZ",
        "colab_type": "code",
        "colab": {}
      },
      "source": [
        ""
      ],
      "execution_count": 0,
      "outputs": []
    }
  ]
}
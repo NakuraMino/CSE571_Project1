{
  "nbformat": 4,
  "nbformat_minor": 0,
  "metadata": {
    "colab": {
      "name": "CartpoleNet_nishant.ipynb",
      "provenance": [],
      "collapsed_sections": [],
      "machine_shape": "hm"
    },
    "kernelspec": {
      "name": "python3",
      "display_name": "Python 3"
    }
  },
  "cells": [
    {
      "cell_type": "code",
      "metadata": {
        "id": "3T5tWDw00X89",
        "colab_type": "code",
        "colab": {}
      },
      "source": [
        "!unzip dataset.zip"
      ],
      "execution_count": 0,
      "outputs": []
    },
    {
      "cell_type": "code",
      "metadata": {
        "id": "LcHdZM6wEvjm",
        "colab_type": "code",
        "colab": {}
      },
      "source": [
        "import torch\n",
        "import torch.nn as nn\n",
        "import torch.nn.functional as F\n",
        "import torch.optim as optim\n",
        "\n",
        "class CartpoleNet(nn.Module):\n",
        "\n",
        "  def __init__(self):\n",
        "    super(CartpoleNet, self).__init__()\n",
        "    # 6 output channels, 3x3 square convolution\n",
        "    self.conv1 = nn.Conv3d(num_channels, 6, (1, 3, 3))\n",
        "    self.fc1 = nn.Linear(6 * 2 * 63 * 63, 100)\n",
        "    self.fc2 = nn.Linear(100, 50)\n",
        "    self.fc3 = nn.Linear(50, 20)\n",
        "    self.fc4 = nn.Linear(20, 4)\n",
        "    self.JHist = []\n",
        "\n",
        "  def forward(self, x):\n",
        "    # Max pooling over a (2, 2, 2) window\n",
        "    x = F.max_pool3d(F.relu(self.conv1(x)), 2)\n",
        "    # print(x.shape)\n",
        "    x = x.view(-1, self.num_flat_features(x))\n",
        "    x = F.relu(self.fc1(x))\n",
        "    x = F.relu(self.fc2(x))\n",
        "    x = F.relu(self.fc3(x))\n",
        "    x = self.fc4(x)\n",
        "    return x\n",
        "\n",
        "  def num_flat_features(self, x):\n",
        "    size = x.size()[1:]  # all dimensions except the batch dimension\n",
        "    num_features = 1\n",
        "    for s in size:\n",
        "      num_features *= s\n",
        "    return num_features\n",
        "\n",
        "# images_per_set = 5\n",
        "# num_samples = 10\n",
        "# num_channels = 1\n",
        "\n",
        "# net = CartpoleNet()\n",
        "# print(net)\n",
        "# input = torch.randn(num_samples, num_channels, images_per_set, 128, 128)\n",
        "# out = net(input)\n",
        "# print(out)"
      ],
      "execution_count": 0,
      "outputs": []
    },
    {
      "cell_type": "code",
      "metadata": {
        "id": "nKXOsasvPEkB",
        "colab_type": "code",
        "colab": {}
      },
      "source": [
        "if __name__ == '__main__':\n",
        "  from dataloader import CartpoleDataset\n",
        "  import numpy as np\n",
        "  torch.autograd.set_detect_anomaly(True)\n",
        "\n",
        "  NUM_EPOCHS = 220\n",
        "  # NUM_EPOCHS = 100\n",
        "  LEARNING_RATE = 0.01\n",
        "  E = 50  # epoch length\n",
        "  n = 5  # images per set\n",
        "  W = 128  # image width\n",
        "  H = 128  # image height\n",
        "  grayscale = True\n",
        "\n",
        "  if not grayscale:\n",
        "    num_channels = 3\n",
        "  else:\n",
        "    num_channels = 1\n",
        "\n",
        "  net = CartpoleNet().float()\n",
        "  full_dataset = CartpoleDataset('data.csv', './image_dataset/', n, grayscale=grayscale)\n",
        "\n",
        "  for epoch in range(NUM_EPOCHS):\n",
        "    # print(\"-\"*50)\n",
        "    # print(\"Epoch {}\".format(epoch))\n",
        "    # print(\"-\"*50)\n",
        "    e = epoch * 50  # current epoch beginning index\n",
        "    current_epoch_imageset = torch.empty(E-n+1, num_channels, n, W, H)\n",
        "    current_epoch_labelset = torch.empty(E-n+1, 4)\n",
        "    for i in range(e+n-2, e+E-2):\n",
        "      k = i-(e+n-2)\n",
        "      current_epoch_imageset[k, :] = full_dataset[i][0]\n",
        "      current_epoch_labelset[k] = torch.from_numpy(full_dataset[i][1][n-2])\n",
        "    \n",
        "    epoch_loss = 0\n",
        "    # Mini-batches per epoch\n",
        "    for i in range(E-n+1):\n",
        "      criterion = nn.SmoothL1Loss()\n",
        "      optimizer = optim.SGD(net.parameters(), lr=LEARNING_RATE)\n",
        "\n",
        "      optimizer.zero_grad()\n",
        "\n",
        "      pred_label = net(current_epoch_imageset[i].unsqueeze(0))\n",
        "\n",
        "      loss = criterion(pred_label, current_epoch_labelset[i].unsqueeze(0))\n",
        "      loss.backward()\n",
        "      optimizer.step()\n",
        "\n",
        "      # print(\"Loss(epoch={}, element={}): {}\".format(epoch, i, loss.item()))\n",
        "      epoch_loss += loss.item()\n",
        "    epoch_loss /= (E-n)\n",
        "    print(\"Epoch {} loss = {}\".format(epoch, epoch_loss))\n",
        "    net.JHist.append(epoch_loss)\n"
      ],
      "execution_count": 0,
      "outputs": []
    },
    {
      "cell_type": "code",
      "metadata": {
        "id": "I1IJtxYg0rI-",
        "colab_type": "code",
        "outputId": "42f96e1f-b24a-4ef6-e149-1006bf432916",
        "colab": {
          "base_uri": "https://localhost:8080/",
          "height": 316
        }
      },
      "source": [
        "import matplotlib.pyplot as plt\n",
        "\n",
        "plt.plot(np.linspace(0, NUM_EPOCHS-1, NUM_EPOCHS), net.JHist)\n",
        "print(net.JHist)\n",
        "plt.ylabel(\"Cost error\")\n",
        "plt.xlabel(\"epoch\")\n",
        "plt.grid()\n",
        "plt.show()"
      ],
      "execution_count": 46,
      "outputs": [
        {
          "output_type": "stream",
          "text": [
            "[34.901276575815345, 5.914014792980419, 0.43581732399761675, 0.3086667510991295, 0.2863498172464056, 0.21931730265625649, 0.22459763133277497, 0.2409709567721519, 0.3219102050591674, 0.2607244806467659, 0.44243991679718925, 0.3331973157409165, 0.21035849182452593, 0.2941388480623977, 0.28397894859857237, 0.2046765749873076, 0.3562727307208762, 0.29686931137694045, 0.3017778316266938, 0.25785676318143186, 0.2779346131396273, 0.300636515868569, 0.24204634194158844, 0.2688310884773576, 0.23372190062913836, 0.21421799063941258, 0.28866381779338957, 0.21012395239667966, 0.26294442180385685, 0.2671163580490328, 0.2623580598126864, 0.2294214283568888, 0.2962784763406186, 0.3469131857062975, 0.2669035778549086, 0.3069854085052308, 0.22641604556766753, 0.27989298701997745, 0.2137064847794439, 0.35290347455949006, 0.2462810837650775, 0.2256767470544825, 0.276281198126445, 0.1839093507396885, 0.22931486246509142, 0.35039095254970665, 0.2896747006523785, 0.18949641725436475, 0.2617181882249295, 0.304274105360835, 0.255487830482889, 0.20227772807249697, 0.29657813414750206, 0.26194630252203854, 0.3444476862049972, 0.16909160605508886, 0.302559953846503, 0.2617319842910446, 0.2603107751120761, 0.2541956399004751, 0.31713196464374455, 0.26658819470774486, 0.3481669714092277, 0.3306569827267797, 0.3016490599696731, 0.1986496835850024, 0.20134620364535497, 0.3038783681585402, 0.24669326840925754, 0.27467046807739987, 0.22376674545941772, 0.19773244408424945, 0.20471062832641312, 0.24227690878453562, 0.23801448738344738, 0.25377667371778645, 0.28355285737133173, 0.36834664987917576, 0.22500280044817675, 0.2939199025535749, 0.2777826470057739, 0.29478013158077376, 0.27623403675388547, 0.2423348237210626, 0.3417429870550728, 0.2737084442477984, 0.27989629475762035, 0.2632828960848403, 0.2995341555137808, 0.2621696216532857, 0.3239649930852465, 0.23482850636872982, 0.3116837673070323, 0.20749481848906726, 0.3250446455309025, 0.15713309125955371, 0.2929016029442816, 0.23902743544410138, 0.2642288776567309, 0.23378038053504294, 0.3299755221148694, 0.31591076173418614, 0.23395532010537054, 0.2563126985203578, 0.2342430207852481, 0.24288010196760296, 0.31534007392151076, 0.316307112055559, 0.2715315672730665, 0.4318879967503664, 0.25820080674537976, 0.26762489664833994, 0.46277519025348335, 0.22366946473161484, 0.3642866654179266, 0.3185927779827681, 0.27703950551933504, 0.2584271036567063, 0.3495503880575092, 0.21194656848803992, 0.3053409143855485, 0.2765855824083297, 0.2924504579898591, 0.29301683374602966, 0.281051088063719, 0.3745509977116146, 0.239514710900322, 0.24421219869077, 0.34850646497474774, 0.20598129485733807, 0.19455307880287162, 0.24732835494861422, 0.2951376152283046, 0.20330714821983648, 0.26754364546892856, 0.19758773393663837, 0.2391973271196346, 0.31865432898242335, 0.3003472700711831, 0.26036595414496133, 0.2865991446972152, 0.3139046300018284, 0.24365005203516274, 0.2848727209988283, 0.21484300686182298, 0.27994045994047256, 0.23746751084836432, 0.3164964024317063, 0.2764047896548517, 0.19740995995501484, 0.27283155723061, 0.3290182829870092, 0.2694528824889049, 0.2498508461223941, 0.15641161387514632, 0.22937980514058534, 0.37725162448542604, 0.23233163969901702, 0.2545013263084305, 0.3175496263203159, 0.34733744086568347, 0.2935301141244256, 0.2964674613461183, 0.18315252652973868, 0.2641840923027808, 0.2470201402301124, 0.3094846254285787, 0.330848860867425, 0.21371624945976592, 0.30302788313969764, 0.2782736975835481, 0.32706250331248155, 0.27603961921995507, 0.29143087730497225, 0.179675015522581, 0.269763996362518, 0.22163197253863068, 0.3439361995551735, 0.2187607538905771, 0.17319882511251813, 0.28616101504190333, 0.33776982686572915, 0.23872190043039154, 0.27502154893946784, 0.24723746146127168, 0.2801671827386599, 0.3038840481578114, 0.2145309594886688, 0.23256093260780392, 0.24421834828390274, 0.2621655761917484, 0.31301109795070564, 0.41050510466383355, 0.27203085891410916, 0.18856026132060733, 0.23755053804553528, 0.19228637584407504, 0.23524308528673524, 0.22321171955199032, 0.15562539916265652, 0.3140056482891345, 0.31991628868175515, 0.2879190988508829, 0.3196216549093757, 0.3279492654384942, 0.2711823753844429, 0.3626630485924478, 0.2998493520620589, 0.3527088311397367, 0.2387665500321115, 0.27338286994490774, 0.17534738005294154, 0.23946614539923353, 0.2546538359576112, 0.31965566511110716, 0.19076747002028344, 0.2960019106562767, 0.2814758868280074, 0.3173251216442117, 0.22528753040565386]\n"
          ],
          "name": "stdout"
        },
        {
          "output_type": "display_data",
          "data": {
            "image/png": "[encoded data removed]",
            "text/plain": [
              "<Figure size 432x288 with 1 Axes>"
            ]
          },
          "metadata": {
            "tags": [],
            "needs_background": "light"
          }
        }
      ]
    },
    {
      "cell_type": "code",
      "metadata": {
        "id": "UDcD9eXE-GtO",
        "colab_type": "code",
        "colab": {}
      },
      "source": [
        "PATH = './CartpoleNet_nishant.pth'\n",
        "torch.save(net.state_dict(), PATH)"
      ],
      "execution_count": 0,
      "outputs": []
    }
  ]
}
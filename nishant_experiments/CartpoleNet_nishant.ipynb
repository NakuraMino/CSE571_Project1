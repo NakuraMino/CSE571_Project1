{
  "nbformat": 4,
  "nbformat_minor": 0,
  "metadata": {
    "colab": {
      "name": "CartpoleNet_nishant.ipynb",
      "provenance": [],
      "collapsed_sections": [],
      "machine_shape": "hm"
    },
    "kernelspec": {
      "name": "python3",
      "display_name": "Python 3"
    }
  },
  "cells": [
    {
      "cell_type": "code",
      "metadata": {
        "id": "3T5tWDw00X89",
        "colab_type": "code",
        "colab": {}
      },
      "source": [
        "!unzip dataset.zip"
      ],
      "execution_count": 0,
      "outputs": []
    },
    {
      "cell_type": "code",
      "metadata": {
        "id": "LcHdZM6wEvjm",
        "colab_type": "code",
        "colab": {}
      },
      "source": [
        "import torch\n",
        "import torch.nn as nn\n",
        "import torch.nn.functional as F\n",
        "import torch.optim as optim\n",
        "\n",
        "class CartpoleNet(nn.Module):\n",
        "\n",
        "  def __init__(self):\n",
        "    super(CartpoleNet, self).__init__()\n",
        "    # 6 output channels, 3x3 square convolution\n",
        "    self.conv1 = nn.Conv3d(num_channels, 6, 3)\n",
        "    self.fc1 = nn.Linear(6 * 63 * 63, 100)\n",
        "    self.fc2 = nn.Linear(100, 50)\n",
        "    self.fc3 = nn.Linear(50, 20)\n",
        "    self.fc4 = nn.Linear(20, 4)\n",
        "    self.JHist = []\n",
        "\n",
        "  def forward(self, x):\n",
        "    # Max pooling over a (2, 2, 2) window\n",
        "    x = F.max_pool3d(F.relu(self.conv1(x)), 2)\n",
        "    x = x.view(-1, self.num_flat_features(x))\n",
        "    x = F.relu(self.fc1(x))\n",
        "    x = F.relu(self.fc2(x))\n",
        "    x = F.relu(self.fc3(x))\n",
        "    x = self.fc4(x)\n",
        "    return x\n",
        "\n",
        "  def num_flat_features(self, x):\n",
        "    size = x.size()[1:]  # all dimensions except the batch dimension\n",
        "    num_features = 1\n",
        "    for s in size:\n",
        "      num_features *= s\n",
        "    return num_features\n",
        "\n",
        "# images_per_set = 5\n",
        "# num_samples = 10\n",
        "# num_channels = 1\n",
        "\n",
        "# net = CartpoleNet()\n",
        "# print(net)\n",
        "# input = torch.randn(num_samples, num_channels, images_per_set, 128, 128)\n",
        "# out = net(input)\n",
        "# print(out)"
      ],
      "execution_count": 0,
      "outputs": []
    },
    {
      "cell_type": "code",
      "metadata": {
        "id": "nKXOsasvPEkB",
        "colab_type": "code",
        "colab": {
          "base_uri": "https://localhost:8080/",
          "height": 1000
        },
        "outputId": "d7de47b6-98bc-4c31-aad7-ded381e42d51"
      },
      "source": [
        "if __name__ == '__main__':\n",
        "  from dataloader import CartpoleDataset\n",
        "  import numpy as np\n",
        "\n",
        "  # NUM_EPOCHS = 220\n",
        "  NUM_EPOCHS = 100\n",
        "  LEARNING_RATE = 0.0001\n",
        "  E = 50  # epoch length\n",
        "  n = 5  # images per set\n",
        "  W = 128  # image width\n",
        "  H = 128  # image height\n",
        "  grayscale = True\n",
        "\n",
        "  if not grayscale:\n",
        "    num_channels = 3\n",
        "  else:\n",
        "    num_channels = 1\n",
        "\n",
        "  net = CartpoleNet().float()\n",
        "  full_dataset = CartpoleDataset('data.csv', './image_dataset/', n, grayscale=grayscale)\n",
        "\n",
        "  epoch_loss = 0\n",
        "\n",
        "  for epoch in range(NUM_EPOCHS):\n",
        "    print(\"Epoch {}\".format(epoch))\n",
        "    e = epoch * 50  # current epoch beginning index\n",
        "    current_epoch_imageset = torch.empty(E-n+1, num_channels, n, W, H)\n",
        "    current_epoch_labelset = torch.empty(E-n+1, 4)\n",
        "    for i in range(e+n-2, e+E-2):\n",
        "      k = i-(e+n-2)\n",
        "      current_epoch_imageset[k, :] = full_dataset[i][0]\n",
        "      current_epoch_labelset[k] = torch.from_numpy(full_dataset[i][1][n-2])\n",
        "    \n",
        "    criterion = nn.MSELoss()\n",
        "    optimizer = optim.SGD(net.parameters(), lr=LEARNING_RATE)\n",
        "\n",
        "    optimizer.zero_grad()\n",
        "\n",
        "    pred_labelset = net(current_epoch_imageset)\n",
        "\n",
        "    loss = criterion(pred_labelset, current_epoch_labelset)\n",
        "    loss.backward()\n",
        "    optimizer.step()\n",
        "\n",
        "    epoch_loss += loss.item()\n",
        "    net.JHist.append(epoch_loss)\n"
      ],
      "execution_count": 41,
      "outputs": [
        {
          "output_type": "stream",
          "text": [
            "Epoch 0\n",
            "Epoch 1\n",
            "Epoch 2\n",
            "Epoch 3\n",
            "Epoch 4\n",
            "Epoch 5\n",
            "Epoch 6\n",
            "Epoch 7\n",
            "Epoch 8\n",
            "Epoch 9\n",
            "Epoch 10\n",
            "Epoch 11\n",
            "Epoch 12\n",
            "Epoch 13\n",
            "Epoch 14\n",
            "Epoch 15\n",
            "Epoch 16\n",
            "Epoch 17\n",
            "Epoch 18\n",
            "Epoch 19\n",
            "Epoch 20\n",
            "Epoch 21\n",
            "Epoch 22\n",
            "Epoch 23\n",
            "Epoch 24\n",
            "Epoch 25\n",
            "Epoch 26\n",
            "Epoch 27\n",
            "Epoch 28\n",
            "Epoch 29\n",
            "Epoch 30\n",
            "Epoch 31\n",
            "Epoch 32\n",
            "Epoch 33\n",
            "Epoch 34\n",
            "Epoch 35\n",
            "Epoch 36\n",
            "Epoch 37\n",
            "Epoch 38\n",
            "Epoch 39\n",
            "Epoch 40\n",
            "Epoch 41\n",
            "Epoch 42\n",
            "Epoch 43\n",
            "Epoch 44\n",
            "Epoch 45\n",
            "Epoch 46\n",
            "Epoch 47\n",
            "Epoch 48\n",
            "Epoch 49\n",
            "Epoch 50\n",
            "Epoch 51\n",
            "Epoch 52\n",
            "Epoch 53\n",
            "Epoch 54\n",
            "Epoch 55\n",
            "Epoch 56\n",
            "Epoch 57\n",
            "Epoch 58\n",
            "Epoch 59\n",
            "Epoch 60\n",
            "Epoch 61\n",
            "Epoch 62\n",
            "Epoch 63\n",
            "Epoch 64\n",
            "Epoch 65\n",
            "Epoch 66\n",
            "Epoch 67\n",
            "Epoch 68\n",
            "Epoch 69\n",
            "Epoch 70\n",
            "Epoch 71\n",
            "Epoch 72\n",
            "Epoch 73\n",
            "Epoch 74\n",
            "Epoch 75\n",
            "Epoch 76\n",
            "Epoch 77\n",
            "Epoch 78\n",
            "Epoch 79\n",
            "Epoch 80\n",
            "Epoch 81\n",
            "Epoch 82\n",
            "Epoch 83\n",
            "Epoch 84\n",
            "Epoch 85\n",
            "Epoch 86\n",
            "Epoch 87\n",
            "Epoch 88\n",
            "Epoch 89\n",
            "Epoch 90\n",
            "Epoch 91\n",
            "Epoch 92\n",
            "Epoch 93\n",
            "Epoch 94\n",
            "Epoch 95\n",
            "Epoch 96\n",
            "Epoch 97\n",
            "Epoch 98\n",
            "Epoch 99\n"
          ],
          "name": "stdout"
        }
      ]
    },
    {
      "cell_type": "code",
      "metadata": {
        "id": "I1IJtxYg0rI-",
        "colab_type": "code",
        "outputId": "b08919a5-46de-4a2c-c014-87940097ab74",
        "colab": {
          "base_uri": "https://localhost:8080/",
          "height": 316
        }
      },
      "source": [
        "import matplotlib.pyplot as plt\n",
        "\n",
        "plt.plot(np.linspace(0, NUM_EPOCHS-1, NUM_EPOCHS), net.JHist)\n",
        "print(net.JHist)\n",
        "plt.ylabel(\"Cost error\")\n",
        "plt.xlabel(\"epoch\")\n",
        "plt.grid()\n",
        "plt.show()"
      ],
      "execution_count": 42,
      "outputs": [
        {
          "output_type": "stream",
          "text": [
            "[1.50486421585083, 53.54814577102661, 60.89075469970703, 62.15030348300934, 62.92883723974228, 63.520668506622314, 64.10860109329224, 64.72657978534698, 65.57386183738708, 66.25193536281586, 67.62243175506592, 68.50629162788391, 69.03932160139084, 69.7699903845787, 70.43935006856918, 70.96205818653107, 71.90053004026413, 72.68105864524841, 73.45240271091461, 74.12913131713867, 74.8278471827507, 75.59167277812958, 76.1940438747406, 76.86658430099487, 77.47723954916, 78.02060920000076, 78.69510233402252, 79.21526849269867, 79.87327933311462, 80.50834518671036, 81.1534475684166, 81.73195743560791, 82.46604037284851, 83.37541270256042, 84.08352375030518, 84.88362687826157, 85.42385238409042, 86.12088567018509, 86.65771925449371, 87.57695615291595, 88.24446022510529, 88.79012233018875, 89.45791375637054, 89.91325977444649, 90.49033471941948, 91.40304133296013, 92.09976533055305, 92.56055662035942, 93.18512055277824, 94.02316412329674, 94.6253607571125, 95.11697083711624, 95.8165625333786, 96.47275811433792, 97.38694369792938, 97.81301012635231, 98.57897570729256, 99.23759922385216, 99.88991859555244, 100.51566502451897, 101.32754245400429, 102.01430317759514, 102.9242505133152, 103.78269818425179, 104.5414586365223, 105.0330699980259, 105.53303608298302, 106.32142254710197, 106.97637501358986, 107.64473620057106, 108.19225797057152, 108.66671496629715, 109.12717616558075, 109.71906965970993, 110.3147509098053, 110.95791852474213, 111.67404210567474, 112.68411028385162, 113.267209649086, 114.00053346157074, 114.67158544063568, 115.38131946325302, 116.07397454977036, 116.67713731527328, 117.5750715136528, 118.27431255578995, 118.96011143922806, 119.62481319904327, 120.38827377557755, 121.0101249217987, 121.83858335018158, 122.43573182821274, 123.23516345024109, 123.75676947832108, 124.61530148983002, 125.00703147053719, 125.72680553793907, 126.34535357356071, 127.02365002036095, 127.58324232697487]\n"
          ],
          "name": "stdout"
        },
        {
          "output_type": "display_data",
          "data": {
            "image/png": "[encoded data removed]",
            "text/plain": [
              "<Figure size 432x288 with 1 Axes>"
            ]
          },
          "metadata": {
            "tags": [],
            "needs_background": "light"
          }
        }
      ]
    },
    {
      "cell_type": "code",
      "metadata": {
        "id": "jKE0YAau9cDa",
        "colab_type": "code",
        "colab": {}
      },
      "source": [
        "with torch.no_grad():\n",
        "  criterion = nn.MSELoss()\n",
        "  pred_labels = net(torch.randn(10, num_channels, n, H, W))"
      ],
      "execution_count": 0,
      "outputs": []
    },
    {
      "cell_type": "code",
      "metadata": {
        "id": "UDcD9eXE-GtO",
        "colab_type": "code",
        "colab": {}
      },
      "source": [
        "PATH = './CartpoleNet_nishant.pth'\n",
        "torch.save(net.state_dict(), PATH)"
      ],
      "execution_count": 0,
      "outputs": []
    }
  ]
}
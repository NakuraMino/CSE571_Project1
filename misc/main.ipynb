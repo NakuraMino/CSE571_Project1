{
  "nbformat": 4,
  "nbformat_minor": 0,
  "metadata": {
    "colab": {
      "name": "main.ipynb",
      "provenance": [],
      "collapsed_sections": [],
      "machine_shape": "hm"
    },
    "kernelspec": {
      "name": "python3",
      "display_name": "Python 3"
    },
    "accelerator": "GPU"
  },
  "cells": [
    {
      "cell_type": "code",
      "metadata": {
        "id": "4j0p0JpsQckq",
        "colab_type": "code",
        "colab": {}
      },
      "source": [
        "from dataloader import CartpoleDataset\n",
        "from cartpolenet2 import CartPoleNet\n",
        "import torch\n",
        "import torch\n",
        "import torch.nn as nn\n",
        "import torch.nn.functional as F \n",
        "import torch.optim as optim\n",
        "import matplotlib.pyplot as plt"
      ],
      "execution_count": 0,
      "outputs": []
    },
    {
      "cell_type": "code",
      "metadata": {
        "id": "ixa1fqvWQiyQ",
        "colab_type": "code",
        "colab": {}
      },
      "source": [
        "path = 'drive/My Drive/image_dataset/'\n",
        "dataset = CartpoleDataset('data.csv', path, 5, H=128, W=128)"
      ],
      "execution_count": 0,
      "outputs": []
    },
    {
      "cell_type": "code",
      "metadata": {
        "id": "dyRJXXAEWo9Q",
        "colab_type": "code",
        "colab": {
          "base_uri": "https://localhost:8080/",
          "height": 191
        },
        "outputId": "330d5dab-8934-442e-b696-3aefd01a9436"
      },
      "source": [
        "net = CartPoleNet().double()\n",
        "print(net)"
      ],
      "execution_count": 3,
      "outputs": [
        {
          "output_type": "stream",
          "text": [
            "CartPoleNet(\n",
            "  (conv1): Conv3d(1, 6, kernel_size=(3, 3, 3), stride=(1, 1, 1), padding=(1, 1, 1))\n",
            "  (conv2): Conv3d(6, 16, kernel_size=(3, 3, 3), stride=(1, 1, 1), padding=(1, 1, 1))\n",
            "  (conv3): Conv3d(16, 32, kernel_size=(3, 3, 3), stride=(1, 1, 1), padding=(1, 1, 1))\n",
            "  (conv4): Conv3d(32, 64, kernel_size=(3, 3, 3), stride=(1, 1, 1), padding=(1, 1, 1))\n",
            "  (fc1): Linear(in_features=4096, out_features=120, bias=True)\n",
            "  (fc2): Linear(in_features=120, out_features=100, bias=True)\n",
            "  (fc3): Linear(in_features=100, out_features=50, bias=True)\n",
            "  (fc4): Linear(in_features=50, out_features=4, bias=True)\n",
            ")\n"
          ],
          "name": "stdout"
        }
      ]
    },
    {
      "cell_type": "code",
      "metadata": {
        "id": "-F91_YpR8uAi",
        "colab_type": "code",
        "colab": {}
      },
      "source": [
        "JHist = [] # cost history\n",
        "LR = [] # learning rate\n",
        "JHist_test = [] # test it on one batch only \n",
        "epoch = 0\n",
        "index = 3"
      ],
      "execution_count": 0,
      "outputs": []
    },
    {
      "cell_type": "code",
      "metadata": {
        "id": "pZXhyBJPfFDO",
        "colab_type": "code",
        "colab": {}
      },
      "source": [
        "lr = 0.005\n",
        "optimizer = optim.SGD(net.parameters(), lr=lr)\n",
        "criterion = nn.MSELoss()\n",
        "LR.append(lr)\n",
        "for i in range(50): # num_epochs\n",
        "  train_x, train_y, epoch, index = create_batch(dataset, 64, epoch, index)\n",
        "  optimizer.zero_grad()\n",
        "  y_pred = net(train_x)\n",
        "  loss = criterion(y_pred, train_y)\n",
        "  loss.backward()\n",
        "  optimizer.step()\n",
        "  JHist.append(loss.item())"
      ],
      "execution_count": 0,
      "outputs": []
    },
    {
      "cell_type": "code",
      "metadata": {
        "id": "OLRdd_yu_dRw",
        "colab_type": "code",
        "colab": {
          "base_uri": "https://localhost:8080/",
          "height": 283
        },
        "outputId": "a20f5bb1-1fe2-4b1f-e407-9400b2d840f9"
      },
      "source": [
        "plt.plot(JHist)"
      ],
      "execution_count": 17,
      "outputs": [
        {
          "output_type": "execute_result",
          "data": {
            "text/plain": [
              "[<matplotlib.lines.Line2D at 0x7ff512061eb8>]"
            ]
          },
          "metadata": {
            "tags": []
          },
          "execution_count": 17
        },
        {
          "output_type": "display_data",
          "data": {
            "image/png": "[encoded data removed]",
            "text/plain": [
              "<Figure size 432x288 with 1 Axes>"
            ]
          },
          "metadata": {
            "tags": [],
            "needs_background": "light"
          }
        }
      ]
    },
    {
      "cell_type": "code",
      "metadata": {
        "id": "eV1B2vVBfeiS",
        "colab_type": "code",
        "colab": {}
      },
      "source": [
        "def create_batch(dataset, batch_size=32, epoch=0, index=0):\n",
        "  '''\n",
        "  retrieves a batch of training data to work on. given the specified\n",
        "  starting epoch and starting index. \n",
        "  '''\n",
        "  index %= 50\n",
        "  assert(epoch < 220 and epoch >= 0)\n",
        "  assert(index >= 3 and index <= 48)\n",
        "\n",
        "  train_x = dataset[epoch * 50 + index][0].unsqueeze(0) # gets first training point \n",
        "  train_y = torch.tensor(dataset[epoch * 50 + index][1][-2, :]).unsqueeze(0) # gets second to last delta state \n",
        "\n",
        "  # epoch * 50 + index\n",
        "\n",
        "\n",
        "  for i in range(batch_size - 1):\n",
        "    index += 1\n",
        "    if (index > 48):\n",
        "      # resetting indices so we are in the right area\n",
        "      epoch += 1\n",
        "      index = 3 \n",
        "    x = dataset[epoch * 50 + index][0].unsqueeze(0)\n",
        "    y = torch.tensor(dataset[epoch * 50 + index][1][-2, :]).unsqueeze(0)\n",
        "    train_x = torch.cat((train_x, x), axis=0)\n",
        "    train_y = torch.cat((train_y, y), axis=0)\n",
        "\n",
        "  return (train_x.double(), train_y, epoch, index)\n",
        "\n"
      ],
      "execution_count": 0,
      "outputs": []
    }
  ]
}